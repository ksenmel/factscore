{
 "cells": [
  {
   "cell_type": "code",
   "execution_count": null,
   "id": "3be519ed",
   "metadata": {},
   "outputs": [],
   "source": [
    "import os\n",
    "\n",
    "os.environ[\"COMPLETIONS_PROXY\"] = \"\"\n",
    "os.environ[\"EMBEDDINGS_PROXY\"] = \"\"\n",
    "os.environ[\"COMPLETIONS_API_KEY\"] = \"\"\n",
    "os.environ[\"EMBEDDINGS_API_KEY\"] = \"\""
   ]
  },
  {
   "cell_type": "code",
   "execution_count": null,
   "id": "94c52c29",
   "metadata": {},
   "outputs": [],
   "source": [
    "from factscore.factscorer import FactScorer\n",
    "\n",
    "fs = FactScorer()\n",
    "fs.register_knowledge_source(faiss_index=\"\",\n",
    "                             data_db=\"\", \n",
    "                             table_name=\"\")"
   ]
  },
  {
   "cell_type": "code",
   "execution_count": 30,
   "id": "8cf519da",
   "metadata": {},
   "outputs": [],
   "source": [
    "gen1 = \"\"\"\n",
    "Marie Skłodowska Curie was a pioneering physicist and chemist, famous for her groundbreaking research on radioactivity. She was born on November 7, 1867, in Warsaw, Poland (then part of the Russian Empire), as Maria Skłodowska.\n",
    "Despite facing barriers to women’s education in Poland, she moved to Paris in 1891 to study at the Sorbonne, where she earned degrees in physics and mathematics. There she met physicist Pierre Curie, whom she married in 1895.\n",
    "Marie Curie, working with Pierre, discovered two new radioactive elements: polonium (named after her native Poland) and radium in 1898. She developed techniques for isolating radioactive isotopes and conducted fundamental studies on the nature of radioactivity — a term she coined.\n",
    "In 1903, she shared the Nobel Prize in Physics with Pierre Curie and Henri Becquerel for their work on radioactivity. After Pierre’s death in 1906, Marie continued her research, becoming the first female professor at the University of Paris. In 1911, she was awarded a second Nobel Prize, this time in Chemistry, for her discoveries of polonium and radium and her work in isolating pure radium.\n",
    "Marie Curie was the first person to win two Nobel Prizes in different scientific fields. She also championed medical applications of radioactivity, including the use of mobile X-ray units during World War I.\n",
    "Her relentless exposure to radioactive materials, however, took a toll on her health, and she died on July 4, 1934, in France from aplastic anemia, likely caused by radiation exposure.\n",
    "\"\"\""
   ]
  },
  {
   "cell_type": "code",
   "execution_count": 31,
   "id": "d187a380",
   "metadata": {},
   "outputs": [],
   "source": [
    "gen2 = \"\"\"\n",
    "X-rays are a form of electromagnetic radiation with high energy and short wavelengths, lying between ultraviolet (UV) light and gamma rays in the electromagnetic spectrum. \n",
    "\"\"\""
   ]
  },
  {
   "cell_type": "code",
   "execution_count": 32,
   "id": "0a1b60ee",
   "metadata": {},
   "outputs": [
    {
     "name": "stdout",
     "output_type": "stream",
     "text": [
      "{'Marie Skłodowska Curie was a pioneering physicist and chemist.': True, 'Marie Skłodowska Curie was born on November 7, 1867.': True, 'Marie Skłodowska Curie was born in Warsaw, Poland.': True, 'Warsaw, Poland was then part of the Russian Empire.': True, 'Marie Skłodowska Curie was born as Maria Skłodowska.': True, 'Marie Skłodowska Curie moved to Paris in 1891.': False, 'Marie Skłodowska Curie studied at the Sorbonne.': False, 'Marie Skłodowska Curie earned degrees in physics and mathematics.': True, 'Marie Skłodowska Curie met physicist Pierre Curie.': True, 'Marie Skłodowska Curie married Pierre Curie in 1895.': False, 'Marie Curie discovered two new radioactive elements.': True, 'The two new radioactive elements discovered by Marie Curie were polonium and radium.': True, 'Polonium was named after Poland.': True, 'Polonium and radium were discovered in 1898.': True, 'Marie Curie developed techniques for isolating radioactive isotopes.': True, 'Marie Curie conducted fundamental studies on the nature of radioactivity.': True, 'Marie Curie coined the term \"radioactivity.\"': True, 'In 1903, Marie Curie shared the Nobel Prize in Physics with Pierre Curie and Henri Becquerel.': True, 'The 1903 Nobel Prize in Physics was for their work on radioactivity.': True, 'Pierre Curie died in 1906.': True, 'After Pierre Curie’s death in 1906, Marie Curie continued her research.': True, 'Marie Curie became the first female professor at the University of Paris.': True, 'In 1911, Marie Curie was awarded a second Nobel Prize.': True, 'The 1911 Nobel Prize was in Chemistry.': True, 'The 1911 Nobel Prize was awarded for the discoveries of polonium and radium.': True, 'The 1911 Nobel Prize was awarded for work in isolating pure radium.': True, 'Marie Curie was the first person to win two Nobel Prizes in different scientific fields.': True, 'Marie Curie championed medical applications of radioactivity.': False, 'Marie Curie supported the use of mobile X-ray units during World War I.': True, 'Marie Curie’s relentless exposure to radioactive materials took a toll on her health.': True, 'Marie Curie died on July 4, 1934.': True, 'Marie Curie died in France.': True, 'Marie Curie died from aplastic anemia.': True, 'Aplastic anemia was likely caused by radiation exposure.': False}\n",
      "gen factscore: 0.8529\n",
      "gen pocess time: 69.7765\n",
      "gen estimated cost: 0.0020365999999999995\n",
      "{'X-rays are a form of electromagnetic radiation.': True, 'X-rays have high energy.': True, 'X-rays have short wavelengths.': True, 'X-rays lie between ultraviolet (UV) light and gamma rays in the electromagnetic spectrum.': True}\n",
      "gen factscore: 1.0\n",
      "gen pocess time: 10.33\n",
      "gen estimated cost: 0.0002917\n"
     ]
    }
   ],
   "source": [
    "res = await fs.get_score(generations=[gen1, gen2], k=1)"
   ]
  }
 ],
 "metadata": {
  "kernelspec": {
   "display_name": "conda-factscore",
   "language": "python",
   "name": "python3"
  },
  "language_info": {
   "codemirror_mode": {
    "name": "ipython",
    "version": 3
   },
   "file_extension": ".py",
   "mimetype": "text/x-python",
   "name": "python",
   "nbconvert_exporter": "python",
   "pygments_lexer": "ipython3",
   "version": "3.11.11"
  }
 },
 "nbformat": 4,
 "nbformat_minor": 5
}
