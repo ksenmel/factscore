{
 "cells": [
  {
   "cell_type": "code",
   "execution_count": null,
   "id": "c971b364",
   "metadata": {},
   "outputs": [],
   "source": [
    "!pip install -U spacy"
   ]
  },
  {
   "cell_type": "code",
   "execution_count": null,
   "id": "8efa80f4",
   "metadata": {},
   "outputs": [],
   "source": [
    "!python3 -m spacy download en_core_web_sm"
   ]
  },
  {
   "cell_type": "code",
   "execution_count": 2,
   "id": "177380d4",
   "metadata": {},
   "outputs": [],
   "source": [
    "query1 = \"Michael Collins was the Command Module Pilot for the Apollo 11 mission in 1969\"\n",
    "query2 = 'The Government Code and Cypher School was located at Bletchley Park'"
   ]
  },
  {
   "cell_type": "code",
   "execution_count": 1,
   "id": "2155cb92",
   "metadata": {},
   "outputs": [
    {
     "data": {
      "text/plain": [
       "['tok2vec', 'tagger', 'parser', 'attribute_ruler', 'lemmatizer', 'ner']"
      ]
     },
     "execution_count": 1,
     "metadata": {},
     "output_type": "execute_result"
    }
   ],
   "source": [
    "import spacy\n",
    "\n",
    "\"\"\"\n",
    "https://github.com/codebasics/nlp-tutorials/blob/main/8_NER/nlp_tutorial_NER.ipynb\n",
    "\n",
    "List of all entities https://spacy.io/models/en or \n",
    ">>> nlp.pipe_labels['ner']\n",
    "\"\"\"\n",
    "\n",
    "nlp = spacy.load(\"en_core_web_sm\")\n",
    "nlp.pipe_names"
   ]
  },
  {
   "cell_type": "code",
   "execution_count": 4,
   "id": "a4ead8c1",
   "metadata": {},
   "outputs": [
    {
     "name": "stdout",
     "output_type": "stream",
     "text": [
      "(Michael Collins, the Command Module Pilot, Apollo, 1969)\n"
     ]
    }
   ],
   "source": [
    "doc = nlp(query1)\n",
    "\n",
    "print(doc.ents)"
   ]
  },
  {
   "cell_type": "code",
   "execution_count": 7,
   "id": "1c55fdd6",
   "metadata": {},
   "outputs": [
    {
     "name": "stdout",
     "output_type": "stream",
     "text": [
      "Michael Collins  |  PERSON  |  People, including fictional\n",
      "<class 'str'>\n",
      "the Command Module Pilot  |  ORG  |  Companies, agencies, institutions, etc.\n",
      "<class 'str'>\n",
      "Apollo  |  ORG  |  Companies, agencies, institutions, etc.\n",
      "<class 'str'>\n",
      "1969  |  DATE  |  Absolute or relative dates or periods\n",
      "<class 'str'>\n"
     ]
    }
   ],
   "source": [
    "for ent in doc.ents:\n",
    "    print(ent.text, \" | \", ent.label_, \" | \", spacy.explain(ent.label_))\n",
    "    print(type(ent.label_))"
   ]
  },
  {
   "cell_type": "code",
   "execution_count": 6,
   "id": "9b8f2933",
   "metadata": {},
   "outputs": [
    {
     "name": "stdout",
     "output_type": "stream",
     "text": [
      "<class 'spacy.tokens.span.Span'>\n"
     ]
    }
   ],
   "source": [
    "print(type(doc.ents[0]))"
   ]
  },
  {
   "cell_type": "code",
   "execution_count": 16,
   "id": "fda50ee9",
   "metadata": {},
   "outputs": [
    {
     "name": "stdout",
     "output_type": "stream",
     "text": [
      "Michael Collins\n"
     ]
    }
   ],
   "source": [
    "print(str(doc.ents[0]))"
   ]
  },
  {
   "cell_type": "code",
   "execution_count": 9,
   "id": "7fac3b29",
   "metadata": {},
   "outputs": [
    {
     "name": "stdout",
     "output_type": "stream",
     "text": [
      "(Turing,)\n",
      "Turing  |  ORG  |  Companies, agencies, institutions, etc.\n"
     ]
    }
   ],
   "source": [
    "doc = nlp(query2)\n",
    "\n",
    "print(doc.ents)\n",
    "for ent in doc.ents:\n",
    "    print(ent.text, \" | \", ent.label_, \" | \", spacy.explain(ent.label_))"
   ]
  },
  {
   "cell_type": "code",
   "execution_count": null,
   "id": "d78c6dd9",
   "metadata": {},
   "outputs": [],
   "source": [
    "from transformers import AutoTokenizer, AutoModelForTokenClassification\n",
    "from transformers import pipeline\n",
    "\n",
    "tokenizer = AutoTokenizer.from_pretrained(\"dslim/bert-base-NER\")\n",
    "model = AutoModelForTokenClassification.from_pretrained(\"dslim/bert-base-NER\")\n",
    "\n",
    "nlp = pipeline(\"ner\", model=model, tokenizer=tokenizer)"
   ]
  },
  {
   "cell_type": "code",
   "execution_count": null,
   "id": "90051b06",
   "metadata": {},
   "outputs": [],
   "source": [
    "!pip install stanza"
   ]
  },
  {
   "cell_type": "code",
   "execution_count": 1,
   "id": "c25dc919",
   "metadata": {},
   "outputs": [
    {
     "name": "stderr",
     "output_type": "stream",
     "text": [
      "/opt/anaconda3/envs/conda-factscore/lib/python3.11/site-packages/tqdm/auto.py:21: TqdmWarning: IProgress not found. Please update jupyter and ipywidgets. See https://ipywidgets.readthedocs.io/en/stable/user_install.html\n",
      "  from .autonotebook import tqdm as notebook_tqdm\n",
      "Downloading https://raw.githubusercontent.com/stanfordnlp/stanza-resources/main/resources_1.10.0.json: 426kB [00:00, 3.26MB/s]                    \n",
      "2025-04-15 02:10:47 INFO: Downloaded file to /Users/kseniia/stanza_resources/resources.json\n",
      "2025-04-15 02:10:47 INFO: Downloading default packages for language: en (English) ...\n",
      "2025-04-15 02:10:49 INFO: File exists: /Users/kseniia/stanza_resources/en/default.zip\n",
      "2025-04-15 02:10:51 INFO: Finished downloading models and saved to /Users/kseniia/stanza_resources\n"
     ]
    }
   ],
   "source": [
    "import stanza\n",
    "\"\"\"\n",
    "https://stanfordnlp.github.io/stanza/getting_started.html\n",
    "\"\"\"\n",
    "stanza.download('en') "
   ]
  },
  {
   "cell_type": "code",
   "execution_count": 2,
   "id": "dbca71c6",
   "metadata": {},
   "outputs": [
    {
     "name": "stderr",
     "output_type": "stream",
     "text": [
      "2025-04-15 02:10:51 INFO: Checking for updates to resources.json in case models have been updated.  Note: this behavior can be turned off with download_method=None or download_method=DownloadMethod.REUSE_RESOURCES\n",
      "Downloading https://raw.githubusercontent.com/stanfordnlp/stanza-resources/main/resources_1.10.0.json: 426kB [00:00, 3.08MB/s]                    \n",
      "2025-04-15 02:10:52 INFO: Downloaded file to /Users/kseniia/stanza_resources/resources.json\n",
      "2025-04-15 02:10:53 INFO: Loading these models for language: en (English):\n",
      "============================================\n",
      "| Processor    | Package                   |\n",
      "--------------------------------------------\n",
      "| tokenize     | combined                  |\n",
      "| mwt          | combined                  |\n",
      "| pos          | combined_charlm           |\n",
      "| lemma        | combined_nocharlm         |\n",
      "| constituency | ptb3-revised_charlm       |\n",
      "| depparse     | combined_charlm           |\n",
      "| sentiment    | sstplus_charlm            |\n",
      "| ner          | ontonotes-ww-multi_charlm |\n",
      "============================================\n",
      "\n",
      "2025-04-15 02:10:53 INFO: Using device: cpu\n",
      "2025-04-15 02:10:53 INFO: Loading: tokenize\n",
      "2025-04-15 02:10:54 INFO: Loading: mwt\n",
      "2025-04-15 02:10:54 INFO: Loading: pos\n",
      "2025-04-15 02:10:54 INFO: Loading: lemma\n",
      "2025-04-15 02:10:55 INFO: Loading: constituency\n",
      "2025-04-15 02:10:55 INFO: Loading: depparse\n",
      "2025-04-15 02:10:55 INFO: Loading: sentiment\n",
      "2025-04-15 02:10:55 INFO: Loading: ner\n",
      "2025-04-15 02:10:56 INFO: Done loading processors!\n"
     ]
    }
   ],
   "source": [
    "nlp = stanza.Pipeline('en') "
   ]
  },
  {
   "cell_type": "code",
   "execution_count": 3,
   "id": "683224d7",
   "metadata": {},
   "outputs": [
    {
     "name": "stdout",
     "output_type": "stream",
     "text": [
      "World War II EVENT\n",
      "Turing PERSON\n",
      "the Government Code ORG\n",
      "Cypher School ORG\n",
      "Bletchley Park FAC\n",
      "Britain's GPE\n",
      "Ultra ORG\n",
      "[{\n",
      "  \"text\": \"World War II\",\n",
      "  \"type\": \"EVENT\",\n",
      "  \"start_char\": 7,\n",
      "  \"end_char\": 19\n",
      "}, {\n",
      "  \"text\": \"Turing\",\n",
      "  \"type\": \"PERSON\",\n",
      "  \"start_char\": 21,\n",
      "  \"end_char\": 27\n",
      "}, {\n",
      "  \"text\": \"the Government Code\",\n",
      "  \"type\": \"ORG\",\n",
      "  \"start_char\": 39,\n",
      "  \"end_char\": 58\n",
      "}, {\n",
      "  \"text\": \"Cypher School\",\n",
      "  \"type\": \"ORG\",\n",
      "  \"start_char\": 63,\n",
      "  \"end_char\": 76\n",
      "}, {\n",
      "  \"text\": \"Bletchley Park\",\n",
      "  \"type\": \"FAC\",\n",
      "  \"start_char\": 80,\n",
      "  \"end_char\": 94\n",
      "}, {\n",
      "  \"text\": \"Britain's\",\n",
      "  \"type\": \"GPE\",\n",
      "  \"start_char\": 96,\n",
      "  \"end_char\": 105\n",
      "}, {\n",
      "  \"text\": \"Ultra\",\n",
      "  \"type\": \"ORG\",\n",
      "  \"start_char\": 140,\n",
      "  \"end_char\": 145\n",
      "}]\n"
     ]
    }
   ],
   "source": [
    "doc = nlp(\"During World War II, Turing worked for the Government Code and Cypher School at Bletchley Park, Britain's codebreaking centre that produced Ultra intelligence\")\n",
    "for i in doc.ents:\n",
    "    print(i.text, i.type)\n",
    "\n",
    "print(doc.ents)"
   ]
  },
  {
   "cell_type": "code",
   "execution_count": 4,
   "id": "1ad1da28",
   "metadata": {},
   "outputs": [
    {
     "name": "stdout",
     "output_type": "stream",
     "text": [
      "During \t during \t ADP\n",
      "World \t World \t PROPN\n",
      "War \t War \t PROPN\n",
      "II \t II \t NUM\n",
      ", \t , \t PUNCT\n",
      "Turing \t Turing \t PROPN\n",
      "worked \t work \t VERB\n",
      "for \t for \t ADP\n",
      "the \t the \t DET\n",
      "Government \t Government \t PROPN\n",
      "Code \t Code \t PROPN\n",
      "and \t and \t CCONJ\n",
      "Cypher \t Cypher \t PROPN\n",
      "School \t School \t PROPN\n",
      "at \t at \t ADP\n",
      "Bletchley \t Bletchley \t PROPN\n",
      "Park \t Park \t PROPN\n",
      ", \t , \t PUNCT\n",
      "Britain \t Britain \t PROPN\n",
      "'s \t 's \t PART\n",
      "codebreaking \t codebreaking \t ADJ\n",
      "centre \t centre \t NOUN\n",
      "that \t that \t PRON\n",
      "produced \t produce \t VERB\n",
      "Ultra \t ultra \t ADJ\n",
      "intelligence \t intelligence \t NOUN\n"
     ]
    }
   ],
   "source": [
    "for sent in doc.sentences:\n",
    "    for word in sent.words:\n",
    "        print(word.text, '\\t', word.lemma, '\\t', word.upos)"
   ]
  },
  {
   "cell_type": "code",
   "execution_count": 1,
   "id": "0d8f3f2b",
   "metadata": {},
   "outputs": [
    {
     "name": "stdout",
     "output_type": "stream",
     "text": [
      "Requirement already satisfied: flair in /opt/anaconda3/envs/conda-factscore/lib/python3.11/site-packages (0.15.1)\n",
      "Requirement already satisfied: boto3>=1.20.27 in /opt/anaconda3/envs/conda-factscore/lib/python3.11/site-packages (from flair) (1.37.34)\n",
      "Requirement already satisfied: conllu<5.0.0,>=4.0 in /opt/anaconda3/envs/conda-factscore/lib/python3.11/site-packages (from flair) (4.5.3)\n",
      "Requirement already satisfied: deprecated>=1.2.13 in /opt/anaconda3/envs/conda-factscore/lib/python3.11/site-packages (from flair) (1.2.18)\n",
      "Requirement already satisfied: ftfy>=6.1.0 in /opt/anaconda3/envs/conda-factscore/lib/python3.11/site-packages (from flair) (6.3.1)\n",
      "Requirement already satisfied: gdown>=4.4.0 in /opt/anaconda3/envs/conda-factscore/lib/python3.11/site-packages (from flair) (5.2.0)\n",
      "Requirement already satisfied: huggingface-hub>=0.10.0 in /opt/anaconda3/envs/conda-factscore/lib/python3.11/site-packages (from flair) (0.30.2)\n",
      "Requirement already satisfied: langdetect>=1.0.9 in /opt/anaconda3/envs/conda-factscore/lib/python3.11/site-packages (from flair) (1.0.9)\n",
      "Requirement already satisfied: lxml>=4.8.0 in /opt/anaconda3/envs/conda-factscore/lib/python3.11/site-packages (from flair) (5.3.2)\n",
      "Requirement already satisfied: matplotlib>=2.2.3 in /opt/anaconda3/envs/conda-factscore/lib/python3.11/site-packages (from flair) (3.10.1)\n",
      "Requirement already satisfied: more-itertools>=8.13.0 in /opt/anaconda3/envs/conda-factscore/lib/python3.11/site-packages (from flair) (10.6.0)\n",
      "Requirement already satisfied: mpld3>=0.3 in /opt/anaconda3/envs/conda-factscore/lib/python3.11/site-packages (from flair) (0.5.10)\n",
      "Requirement already satisfied: pptree>=3.1 in /opt/anaconda3/envs/conda-factscore/lib/python3.11/site-packages (from flair) (3.1)\n",
      "Requirement already satisfied: python-dateutil>=2.8.2 in /opt/anaconda3/envs/conda-factscore/lib/python3.11/site-packages (from flair) (2.9.0.post0)\n",
      "Requirement already satisfied: pytorch-revgrad>=0.2.0 in /opt/anaconda3/envs/conda-factscore/lib/python3.11/site-packages (from flair) (0.2.0)\n",
      "Requirement already satisfied: regex>=2022.1.18 in /opt/anaconda3/envs/conda-factscore/lib/python3.11/site-packages (from flair) (2024.11.6)\n",
      "Requirement already satisfied: scikit-learn>=1.0.2 in /opt/anaconda3/envs/conda-factscore/lib/python3.11/site-packages (from flair) (1.6.1)\n",
      "Requirement already satisfied: segtok>=1.5.11 in /opt/anaconda3/envs/conda-factscore/lib/python3.11/site-packages (from flair) (1.5.11)\n",
      "Requirement already satisfied: sqlitedict>=2.0.0 in /opt/anaconda3/envs/conda-factscore/lib/python3.11/site-packages (from flair) (2.1.0)\n",
      "Requirement already satisfied: tabulate>=0.8.10 in /opt/anaconda3/envs/conda-factscore/lib/python3.11/site-packages (from flair) (0.9.0)\n",
      "Requirement already satisfied: torch>=1.13.1 in /opt/anaconda3/envs/conda-factscore/lib/python3.11/site-packages (from flair) (2.6.0)\n",
      "Requirement already satisfied: tqdm>=4.63.0 in /opt/anaconda3/envs/conda-factscore/lib/python3.11/site-packages (from flair) (4.67.1)\n",
      "Requirement already satisfied: transformer-smaller-training-vocab>=0.2.3 in /opt/anaconda3/envs/conda-factscore/lib/python3.11/site-packages (from flair) (0.4.0)\n",
      "Requirement already satisfied: transformers<5.0.0,>=4.25.0 in /opt/anaconda3/envs/conda-factscore/lib/python3.11/site-packages (from transformers[sentencepiece]<5.0.0,>=4.25.0->flair) (4.51.2)\n",
      "Requirement already satisfied: wikipedia-api>=0.5.7 in /opt/anaconda3/envs/conda-factscore/lib/python3.11/site-packages (from flair) (0.8.1)\n",
      "Requirement already satisfied: bioc<3.0.0,>=2.0.0 in /opt/anaconda3/envs/conda-factscore/lib/python3.11/site-packages (from flair) (2.1)\n",
      "Requirement already satisfied: jsonlines>=1.2.0 in /opt/anaconda3/envs/conda-factscore/lib/python3.11/site-packages (from bioc<3.0.0,>=2.0.0->flair) (4.0.0)\n",
      "Requirement already satisfied: intervaltree in /opt/anaconda3/envs/conda-factscore/lib/python3.11/site-packages (from bioc<3.0.0,>=2.0.0->flair) (3.1.0)\n",
      "Requirement already satisfied: docopt in /opt/anaconda3/envs/conda-factscore/lib/python3.11/site-packages (from bioc<3.0.0,>=2.0.0->flair) (0.6.2)\n",
      "Requirement already satisfied: botocore<1.38.0,>=1.37.34 in /opt/anaconda3/envs/conda-factscore/lib/python3.11/site-packages (from boto3>=1.20.27->flair) (1.37.34)\n",
      "Requirement already satisfied: jmespath<2.0.0,>=0.7.1 in /opt/anaconda3/envs/conda-factscore/lib/python3.11/site-packages (from boto3>=1.20.27->flair) (1.0.1)\n",
      "Requirement already satisfied: s3transfer<0.12.0,>=0.11.0 in /opt/anaconda3/envs/conda-factscore/lib/python3.11/site-packages (from boto3>=1.20.27->flair) (0.11.4)\n",
      "Requirement already satisfied: wrapt<2,>=1.10 in /opt/anaconda3/envs/conda-factscore/lib/python3.11/site-packages (from deprecated>=1.2.13->flair) (1.17.2)\n",
      "Requirement already satisfied: wcwidth in /opt/anaconda3/envs/conda-factscore/lib/python3.11/site-packages (from ftfy>=6.1.0->flair) (0.2.13)\n",
      "Requirement already satisfied: beautifulsoup4 in /opt/anaconda3/envs/conda-factscore/lib/python3.11/site-packages (from gdown>=4.4.0->flair) (4.13.3)\n",
      "Requirement already satisfied: filelock in /opt/anaconda3/envs/conda-factscore/lib/python3.11/site-packages (from gdown>=4.4.0->flair) (3.18.0)\n",
      "Requirement already satisfied: requests[socks] in /opt/anaconda3/envs/conda-factscore/lib/python3.11/site-packages (from gdown>=4.4.0->flair) (2.32.3)\n",
      "Requirement already satisfied: fsspec>=2023.5.0 in /opt/anaconda3/envs/conda-factscore/lib/python3.11/site-packages (from huggingface-hub>=0.10.0->flair) (2025.3.2)\n",
      "Requirement already satisfied: packaging>=20.9 in /opt/anaconda3/envs/conda-factscore/lib/python3.11/site-packages (from huggingface-hub>=0.10.0->flair) (24.2)\n",
      "Requirement already satisfied: pyyaml>=5.1 in /opt/anaconda3/envs/conda-factscore/lib/python3.11/site-packages (from huggingface-hub>=0.10.0->flair) (6.0.2)\n",
      "Requirement already satisfied: typing-extensions>=3.7.4.3 in /opt/anaconda3/envs/conda-factscore/lib/python3.11/site-packages (from huggingface-hub>=0.10.0->flair) (4.13.2)\n",
      "Requirement already satisfied: six in /opt/anaconda3/envs/conda-factscore/lib/python3.11/site-packages (from langdetect>=1.0.9->flair) (1.17.0)\n",
      "Requirement already satisfied: contourpy>=1.0.1 in /opt/anaconda3/envs/conda-factscore/lib/python3.11/site-packages (from matplotlib>=2.2.3->flair) (1.3.1)\n",
      "Requirement already satisfied: cycler>=0.10 in /opt/anaconda3/envs/conda-factscore/lib/python3.11/site-packages (from matplotlib>=2.2.3->flair) (0.12.1)\n",
      "Requirement already satisfied: fonttools>=4.22.0 in /opt/anaconda3/envs/conda-factscore/lib/python3.11/site-packages (from matplotlib>=2.2.3->flair) (4.57.0)\n",
      "Requirement already satisfied: kiwisolver>=1.3.1 in /opt/anaconda3/envs/conda-factscore/lib/python3.11/site-packages (from matplotlib>=2.2.3->flair) (1.4.8)\n",
      "Requirement already satisfied: numpy>=1.23 in /opt/anaconda3/envs/conda-factscore/lib/python3.11/site-packages (from matplotlib>=2.2.3->flair) (1.26.4)\n",
      "Requirement already satisfied: pillow>=8 in /opt/anaconda3/envs/conda-factscore/lib/python3.11/site-packages (from matplotlib>=2.2.3->flair) (11.1.0)\n",
      "Requirement already satisfied: pyparsing>=2.3.1 in /opt/anaconda3/envs/conda-factscore/lib/python3.11/site-packages (from matplotlib>=2.2.3->flair) (3.2.3)\n",
      "Requirement already satisfied: jinja2 in /opt/anaconda3/envs/conda-factscore/lib/python3.11/site-packages (from mpld3>=0.3->flair) (3.1.6)\n",
      "Requirement already satisfied: scipy>=1.6.0 in /opt/anaconda3/envs/conda-factscore/lib/python3.11/site-packages (from scikit-learn>=1.0.2->flair) (1.15.2)\n",
      "Requirement already satisfied: joblib>=1.2.0 in /opt/anaconda3/envs/conda-factscore/lib/python3.11/site-packages (from scikit-learn>=1.0.2->flair) (1.4.2)\n",
      "Requirement already satisfied: threadpoolctl>=3.1.0 in /opt/anaconda3/envs/conda-factscore/lib/python3.11/site-packages (from scikit-learn>=1.0.2->flair) (3.6.0)\n",
      "Requirement already satisfied: networkx in /opt/anaconda3/envs/conda-factscore/lib/python3.11/site-packages (from torch>=1.13.1->flair) (3.4.2)\n",
      "Requirement already satisfied: sympy==1.13.1 in /opt/anaconda3/envs/conda-factscore/lib/python3.11/site-packages (from torch>=1.13.1->flair) (1.13.1)\n",
      "Requirement already satisfied: mpmath<1.4,>=1.1.0 in /opt/anaconda3/envs/conda-factscore/lib/python3.11/site-packages (from sympy==1.13.1->torch>=1.13.1->flair) (1.3.0)\n",
      "Requirement already satisfied: tokenizers<0.22,>=0.21 in /opt/anaconda3/envs/conda-factscore/lib/python3.11/site-packages (from transformers<5.0.0,>=4.25.0->transformers[sentencepiece]<5.0.0,>=4.25.0->flair) (0.21.1)\n",
      "Requirement already satisfied: safetensors>=0.4.3 in /opt/anaconda3/envs/conda-factscore/lib/python3.11/site-packages (from transformers<5.0.0,>=4.25.0->transformers[sentencepiece]<5.0.0,>=4.25.0->flair) (0.5.3)\n",
      "Requirement already satisfied: sentencepiece!=0.1.92,>=0.1.91 in /opt/anaconda3/envs/conda-factscore/lib/python3.11/site-packages (from transformers[sentencepiece]<5.0.0,>=4.25.0->flair) (0.2.0)\n",
      "Requirement already satisfied: protobuf in /opt/anaconda3/envs/conda-factscore/lib/python3.11/site-packages (from transformers[sentencepiece]<5.0.0,>=4.25.0->flair) (6.30.2)\n",
      "Requirement already satisfied: urllib3!=2.2.0,<3,>=1.25.4 in /opt/anaconda3/envs/conda-factscore/lib/python3.11/site-packages (from botocore<1.38.0,>=1.37.34->boto3>=1.20.27->flair) (2.4.0)\n",
      "Requirement already satisfied: attrs>=19.2.0 in /opt/anaconda3/envs/conda-factscore/lib/python3.11/site-packages (from jsonlines>=1.2.0->bioc<3.0.0,>=2.0.0->flair) (25.3.0)\n",
      "Requirement already satisfied: accelerate>=0.26.0 in /opt/anaconda3/envs/conda-factscore/lib/python3.11/site-packages (from transformers[sentencepiece,torch]<5.0,>=4.1->transformer-smaller-training-vocab>=0.2.3->flair) (1.6.0)\n",
      "Requirement already satisfied: soupsieve>1.2 in /opt/anaconda3/envs/conda-factscore/lib/python3.11/site-packages (from beautifulsoup4->gdown>=4.4.0->flair) (2.6)\n",
      "Requirement already satisfied: sortedcontainers<3.0,>=2.0 in /opt/anaconda3/envs/conda-factscore/lib/python3.11/site-packages (from intervaltree->bioc<3.0.0,>=2.0.0->flair) (2.4.0)\n",
      "Requirement already satisfied: MarkupSafe>=2.0 in /opt/anaconda3/envs/conda-factscore/lib/python3.11/site-packages (from jinja2->mpld3>=0.3->flair) (3.0.2)\n",
      "Requirement already satisfied: charset-normalizer<4,>=2 in /opt/anaconda3/envs/conda-factscore/lib/python3.11/site-packages (from requests[socks]->gdown>=4.4.0->flair) (3.4.1)\n",
      "Requirement already satisfied: idna<4,>=2.5 in /opt/anaconda3/envs/conda-factscore/lib/python3.11/site-packages (from requests[socks]->gdown>=4.4.0->flair) (3.10)\n",
      "Requirement already satisfied: certifi>=2017.4.17 in /opt/anaconda3/envs/conda-factscore/lib/python3.11/site-packages (from requests[socks]->gdown>=4.4.0->flair) (2025.1.31)\n",
      "Requirement already satisfied: PySocks!=1.5.7,>=1.5.6 in /opt/anaconda3/envs/conda-factscore/lib/python3.11/site-packages (from requests[socks]->gdown>=4.4.0->flair) (1.7.1)\n",
      "Requirement already satisfied: psutil in /opt/anaconda3/envs/conda-factscore/lib/python3.11/site-packages (from accelerate>=0.26.0->transformers[sentencepiece,torch]<5.0,>=4.1->transformer-smaller-training-vocab>=0.2.3->flair) (5.9.0)\n"
     ]
    }
   ],
   "source": [
    "!pip install flair"
   ]
  },
  {
   "cell_type": "code",
   "execution_count": 27,
   "id": "b80c4518",
   "metadata": {},
   "outputs": [
    {
     "name": "stdout",
     "output_type": "stream",
     "text": [
      "2025-04-15 03:06:50,561 SequenceTagger predicts: Dictionary with 20 tags: <unk>, O, S-ORG, S-MISC, B-PER, E-PER, S-LOC, B-ORG, E-ORG, I-PER, S-PER, B-MISC, I-MISC, E-MISC, I-ORG, B-LOC, E-LOC, I-LOC, <START>, <STOP>\n"
     ]
    }
   ],
   "source": [
    "from flair.data import Sentence\n",
    "from flair.nn import Classifier\n",
    "\n",
    "tagger = Classifier.load('ner')"
   ]
  },
  {
   "cell_type": "code",
   "execution_count": 19,
   "id": "3951094c",
   "metadata": {},
   "outputs": [],
   "source": [
    "query1 = \"Michael Collins was the Command Module Pilot for the Apollo 11 mission in 1969\"\n",
    "query2 = 'The Government Code and Cypher School was located at Bletchley Park'\n",
    "query3 = \"During World War II, Turing worked for the Government Code and Cypher School at Bletchley Park, Britain's codebreaking centre that produced Ultra intelligence\"\n",
    "query4 = \"Photosynthesis is a process that converts light energy into chemical energy stored in glucose molecules\"\n",
    "query5 = \"Albert Einstein developed the theory of relativity, which revolutionized modern physics\""
   ]
  },
  {
   "cell_type": "code",
   "execution_count": 26,
   "id": "2ff3dbba",
   "metadata": {},
   "outputs": [
    {
     "name": "stdout",
     "output_type": "stream",
     "text": [
      "Sentence[14]: \"Michael Collins was the Command Module Pilot for the Apollo 11 mission in 1969\" → [\"Michael Collins\"/PER, \"Apollo 11\"/MISC]\n",
      "<class 'flair.data.Sentence'>\n"
     ]
    }
   ],
   "source": [
    "sentence = Sentence(query1)\n",
    "tagger.predict(sentence)\n",
    "print(sentence)\n",
    "print(type(sentence))"
   ]
  }
 ],
 "metadata": {
  "kernelspec": {
   "display_name": "conda-factscore",
   "language": "python",
   "name": "python3"
  },
  "language_info": {
   "codemirror_mode": {
    "name": "ipython",
    "version": 3
   },
   "file_extension": ".py",
   "mimetype": "text/x-python",
   "name": "python",
   "nbconvert_exporter": "python",
   "pygments_lexer": "ipython3",
   "version": "3.11.11"
  }
 },
 "nbformat": 4,
 "nbformat_minor": 5
}
